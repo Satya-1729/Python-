{
  "cells": [
    {
      "cell_type": "markdown",
      "metadata": {
        "id": "view-in-github",
        "colab_type": "text"
      },
      "source": [
        "<a href=\"https://colab.research.google.com/github/Satya-1729/Python-/blob/main/SNN_code.ipynb\" target=\"_parent\"><img src=\"https://colab.research.google.com/assets/colab-badge.svg\" alt=\"Open In Colab\"/></a>"
      ]
    },
    {
      "cell_type": "code",
      "execution_count": null,
      "metadata": {
        "colab": {
          "base_uri": "https://localhost:8080/"
        },
        "id": "1lZI5Ya1cWmh",
        "outputId": "f4a92440-2d16-4093-ab46-def7d853aa94"
      },
      "outputs": [
        {
          "name": "stdout",
          "output_type": "stream",
          "text": [
            "Downloading http://yann.lecun.com/exdb/mnist/train-images-idx3-ubyte.gz\n",
            "Failed to download (trying next):\n",
            "<urlopen error [SSL: CERTIFICATE_VERIFY_FAILED] certificate verify failed: certificate has expired (_ssl.c:1007)>\n",
            "\n",
            "Downloading https://ossci-datasets.s3.amazonaws.com/mnist/train-images-idx3-ubyte.gz\n",
            "Downloading https://ossci-datasets.s3.amazonaws.com/mnist/train-images-idx3-ubyte.gz to ./data/MNIST/raw/train-images-idx3-ubyte.gz\n"
          ]
        },
        {
          "name": "stderr",
          "output_type": "stream",
          "text": [
            "100%|██████████| 9.91M/9.91M [00:00<00:00, 105MB/s]\n"
          ]
        },
        {
          "name": "stdout",
          "output_type": "stream",
          "text": [
            "Extracting ./data/MNIST/raw/train-images-idx3-ubyte.gz to ./data/MNIST/raw\n",
            "\n",
            "Downloading http://yann.lecun.com/exdb/mnist/train-labels-idx1-ubyte.gz\n",
            "Failed to download (trying next):\n",
            "<urlopen error [SSL: CERTIFICATE_VERIFY_FAILED] certificate verify failed: certificate has expired (_ssl.c:1007)>\n",
            "\n",
            "Downloading https://ossci-datasets.s3.amazonaws.com/mnist/train-labels-idx1-ubyte.gz\n",
            "Downloading https://ossci-datasets.s3.amazonaws.com/mnist/train-labels-idx1-ubyte.gz to ./data/MNIST/raw/train-labels-idx1-ubyte.gz\n"
          ]
        },
        {
          "name": "stderr",
          "output_type": "stream",
          "text": [
            "100%|██████████| 28.9k/28.9k [00:00<00:00, 15.2MB/s]"
          ]
        },
        {
          "name": "stdout",
          "output_type": "stream",
          "text": [
            "Extracting ./data/MNIST/raw/train-labels-idx1-ubyte.gz to ./data/MNIST/raw\n",
            "\n",
            "Downloading http://yann.lecun.com/exdb/mnist/t10k-images-idx3-ubyte.gz\n"
          ]
        },
        {
          "name": "stderr",
          "output_type": "stream",
          "text": [
            "\n"
          ]
        },
        {
          "name": "stdout",
          "output_type": "stream",
          "text": [
            "Failed to download (trying next):\n",
            "<urlopen error [SSL: CERTIFICATE_VERIFY_FAILED] certificate verify failed: certificate has expired (_ssl.c:1007)>\n",
            "\n",
            "Downloading https://ossci-datasets.s3.amazonaws.com/mnist/t10k-images-idx3-ubyte.gz\n",
            "Downloading https://ossci-datasets.s3.amazonaws.com/mnist/t10k-images-idx3-ubyte.gz to ./data/MNIST/raw/t10k-images-idx3-ubyte.gz\n"
          ]
        },
        {
          "name": "stderr",
          "output_type": "stream",
          "text": [
            "100%|██████████| 1.65M/1.65M [00:00<00:00, 78.9MB/s]\n"
          ]
        },
        {
          "name": "stdout",
          "output_type": "stream",
          "text": [
            "Extracting ./data/MNIST/raw/t10k-images-idx3-ubyte.gz to ./data/MNIST/raw\n",
            "\n",
            "Downloading http://yann.lecun.com/exdb/mnist/t10k-labels-idx1-ubyte.gz\n",
            "Failed to download (trying next):\n",
            "<urlopen error [SSL: CERTIFICATE_VERIFY_FAILED] certificate verify failed: certificate has expired (_ssl.c:1007)>\n",
            "\n",
            "Downloading https://ossci-datasets.s3.amazonaws.com/mnist/t10k-labels-idx1-ubyte.gz\n",
            "Downloading https://ossci-datasets.s3.amazonaws.com/mnist/t10k-labels-idx1-ubyte.gz to ./data/MNIST/raw/t10k-labels-idx1-ubyte.gz\n"
          ]
        },
        {
          "name": "stderr",
          "output_type": "stream",
          "text": [
            "100%|██████████| 4.54k/4.54k [00:00<00:00, 5.49MB/s]"
          ]
        },
        {
          "name": "stdout",
          "output_type": "stream",
          "text": [
            "Extracting ./data/MNIST/raw/t10k-labels-idx1-ubyte.gz to ./data/MNIST/raw\n",
            "\n"
          ]
        },
        {
          "name": "stderr",
          "output_type": "stream",
          "text": [
            "\n"
          ]
        },
        {
          "name": "stdout",
          "output_type": "stream",
          "text": [
            "Epoch 1/5, Loss: 1.4274790419190169\n",
            "Epoch 2/5, Loss: 1.324337987121997\n",
            "Epoch 3/5, Loss: 1.3043772230016144\n",
            "Epoch 4/5, Loss: 1.2927685118179078\n",
            "Epoch 5/5, Loss: 1.2843410935737432\n",
            "Training completed.\n"
          ]
        }
      ],
      "source": [
        "import torch\n",
        "import torch.nn as nn\n",
        "import torch.optim as optim\n",
        "import torchvision.transforms as transforms\n",
        "from torchvision.datasets import MNIST\n",
        "from torch.utils.data import DataLoader\n",
        "\n",
        "# Parameters\n",
        "batch_size = 64\n",
        "time_steps = 30\n",
        "learning_rate = 1e-3\n",
        "epochs = 5\n",
        "\n",
        "# Load MNIST dataset\n",
        "transform = transforms.Compose([transforms.ToTensor(), transforms.Normalize((0.5,), (0.5,))])\n",
        "train_data = MNIST(root='./data', train=True, download=True, transform=transform)\n",
        "train_loader = DataLoader(train_data, batch_size=batch_size, shuffle=True)\n",
        "\n",
        "# LIF Neuron Model with Surrogate Gradient\n",
        "class LIFNeuron(nn.Module):\n",
        "    def __init__(self, threshold=1.0, decay=0.9):\n",
        "        super(LIFNeuron, self).__init__()\n",
        "        self.threshold = threshold\n",
        "        self.decay = decay\n",
        "\n",
        "    def forward(self, x, membrane_potential=None):\n",
        "        if membrane_potential is None:\n",
        "            membrane_potential = torch.zeros_like(x, device=x.device)\n",
        "\n",
        "        membrane_potential = membrane_potential * self.decay + x\n",
        "        spikes = (membrane_potential >= self.threshold).float()\n",
        "\n",
        "        # Use surrogate gradient for spikes\n",
        "        grad_spikes = torch.sigmoid(membrane_potential - self.threshold) * 0.3  # Surrogate gradient\n",
        "        spikes = spikes.detach() + grad_spikes  # Apply surrogate gradient\n",
        "\n",
        "        # Reset potential where spikes occurred\n",
        "        membrane_potential = membrane_potential * (1 - spikes)\n",
        "\n",
        "        return spikes, membrane_potential\n",
        "\n",
        "# Spiking Neural Network Model\n",
        "class SNN(nn.Module):\n",
        "    def __init__(self):\n",
        "        super(SNN, self).__init__()\n",
        "        self.fc1 = nn.Linear(784, 256)\n",
        "        self.fc2 = nn.Linear(256, 10)\n",
        "        self.lif1 = LIFNeuron()\n",
        "        self.lif2 = LIFNeuron()\n",
        "\n",
        "    def forward(self, x):\n",
        "        x = x.view(x.size(0), -1)  # Flatten input images to [batch_size, 784]\n",
        "        x = (x + 1) / 2  # Normalize input to [0, 1] for Bernoulli sampling\n",
        "\n",
        "        spikes = torch.zeros(x.size(0), 10, device=x.device)\n",
        "        mem_pot1, mem_pot2 = None, None\n",
        "\n",
        "        for t in range(time_steps):\n",
        "            x_encoded = torch.bernoulli(x).float()  # Frequency encoding\n",
        "\n",
        "            h1 = self.fc1(x_encoded)\n",
        "            h1_spikes, mem_pot1 = self.lif1(h1, mem_pot1)\n",
        "\n",
        "            h2 = self.fc2(h1_spikes)\n",
        "            h2_spikes, mem_pot2 = self.lif2(h2, mem_pot2)\n",
        "\n",
        "            spikes += h2_spikes  # Accumulate spikes over time\n",
        "\n",
        "        return spikes / time_steps\n",
        "\n",
        "# Training setup\n",
        "device = torch.device(\"cuda\" if torch.cuda.is_available() else \"cpu\")\n",
        "model = SNN().to(device)\n",
        "optimizer = optim.Adam(model.parameters(), lr=learning_rate)\n",
        "criterion = nn.CrossEntropyLoss()\n",
        "\n",
        "# Training loop\n",
        "for epoch in range(epochs):\n",
        "    total_loss = 0\n",
        "    for images, labels in train_loader:\n",
        "        images, labels = images.to(device), labels.to(device)\n",
        "\n",
        "        # Forward pass\n",
        "        output = model(images)\n",
        "\n",
        "        # Compute loss\n",
        "        loss = criterion(output, labels)\n",
        "        total_loss += loss.item()\n",
        "\n",
        "        # Backpropagation\n",
        "        optimizer.zero_grad()\n",
        "        loss.backward()\n",
        "        optimizer.step()\n",
        "\n",
        "    print(f\"Epoch {epoch+1}/{epochs}, Loss: {total_loss / len(train_loader)}\")\n",
        "\n",
        "print(\"Training completed.\")\n",
        "\n"
      ]
    },
    {
      "cell_type": "code",
      "execution_count": null,
      "metadata": {
        "colab": {
          "background_save": true,
          "base_uri": "https://localhost:8080/"
        },
        "id": "sHcikB9owO4L",
        "outputId": "4233e1a8-1c59-495f-d279-c47ad9de20ca"
      },
      "outputs": [
        {
          "name": "stdout",
          "output_type": "stream",
          "text": [
            "Downloading http://yann.lecun.com/exdb/mnist/train-images-idx3-ubyte.gz\n",
            "Failed to download (trying next):\n",
            "<urlopen error [SSL: CERTIFICATE_VERIFY_FAILED] certificate verify failed: certificate has expired (_ssl.c:1007)>\n",
            "\n",
            "Downloading https://ossci-datasets.s3.amazonaws.com/mnist/train-images-idx3-ubyte.gz\n",
            "Downloading https://ossci-datasets.s3.amazonaws.com/mnist/train-images-idx3-ubyte.gz to ./data/MNIST/raw/train-images-idx3-ubyte.gz\n"
          ]
        },
        {
          "name": "stderr",
          "output_type": "stream",
          "text": [
            "100%|██████████| 9.91M/9.91M [00:00<00:00, 49.1MB/s]\n"
          ]
        },
        {
          "name": "stdout",
          "output_type": "stream",
          "text": [
            "Extracting ./data/MNIST/raw/train-images-idx3-ubyte.gz to ./data/MNIST/raw\n",
            "\n",
            "Downloading http://yann.lecun.com/exdb/mnist/train-labels-idx1-ubyte.gz\n",
            "Failed to download (trying next):\n",
            "<urlopen error [SSL: CERTIFICATE_VERIFY_FAILED] certificate verify failed: certificate has expired (_ssl.c:1007)>\n",
            "\n",
            "Downloading https://ossci-datasets.s3.amazonaws.com/mnist/train-labels-idx1-ubyte.gz\n",
            "Downloading https://ossci-datasets.s3.amazonaws.com/mnist/train-labels-idx1-ubyte.gz to ./data/MNIST/raw/train-labels-idx1-ubyte.gz\n"
          ]
        },
        {
          "name": "stderr",
          "output_type": "stream",
          "text": [
            "100%|██████████| 28.9k/28.9k [00:00<00:00, 1.60MB/s]\n"
          ]
        },
        {
          "name": "stdout",
          "output_type": "stream",
          "text": [
            "Extracting ./data/MNIST/raw/train-labels-idx1-ubyte.gz to ./data/MNIST/raw\n",
            "\n",
            "Downloading http://yann.lecun.com/exdb/mnist/t10k-images-idx3-ubyte.gz\n",
            "Failed to download (trying next):\n",
            "<urlopen error [SSL: CERTIFICATE_VERIFY_FAILED] certificate verify failed: certificate has expired (_ssl.c:1007)>\n",
            "\n",
            "Downloading https://ossci-datasets.s3.amazonaws.com/mnist/t10k-images-idx3-ubyte.gz\n",
            "Downloading https://ossci-datasets.s3.amazonaws.com/mnist/t10k-images-idx3-ubyte.gz to ./data/MNIST/raw/t10k-images-idx3-ubyte.gz\n"
          ]
        },
        {
          "name": "stderr",
          "output_type": "stream",
          "text": [
            "100%|██████████| 1.65M/1.65M [00:00<00:00, 13.3MB/s]\n"
          ]
        },
        {
          "name": "stdout",
          "output_type": "stream",
          "text": [
            "Extracting ./data/MNIST/raw/t10k-images-idx3-ubyte.gz to ./data/MNIST/raw\n",
            "\n",
            "Downloading http://yann.lecun.com/exdb/mnist/t10k-labels-idx1-ubyte.gz\n",
            "Failed to download (trying next):\n",
            "<urlopen error [SSL: CERTIFICATE_VERIFY_FAILED] certificate verify failed: certificate has expired (_ssl.c:1007)>\n",
            "\n",
            "Downloading https://ossci-datasets.s3.amazonaws.com/mnist/t10k-labels-idx1-ubyte.gz\n",
            "Downloading https://ossci-datasets.s3.amazonaws.com/mnist/t10k-labels-idx1-ubyte.gz to ./data/MNIST/raw/t10k-labels-idx1-ubyte.gz\n"
          ]
        },
        {
          "name": "stderr",
          "output_type": "stream",
          "text": [
            "100%|██████████| 4.54k/4.54k [00:00<00:00, 8.56MB/s]"
          ]
        },
        {
          "name": "stdout",
          "output_type": "stream",
          "text": [
            "Extracting ./data/MNIST/raw/t10k-labels-idx1-ubyte.gz to ./data/MNIST/raw\n",
            "\n"
          ]
        },
        {
          "name": "stderr",
          "output_type": "stream",
          "text": [
            "\n"
          ]
        },
        {
          "name": "stdout",
          "output_type": "stream",
          "text": [
            "Epoch 1/5, Loss: 1.4251396456506968, Accuracy: 88.625%\n",
            "Epoch 2/5, Loss: 1.3232599885733143, Accuracy: 93.42833333333333%\n",
            "Epoch 3/5, Loss: 1.3038870689711337, Accuracy: 94.895%\n",
            "Epoch 4/5, Loss: 1.2923467083017963, Accuracy: 95.79%\n",
            "Epoch 5/5, Loss: 1.2841191734078088, Accuracy: 96.51666666666667%\n",
            "Test Accuracy: 96.74%\n"
          ]
        },
        {
          "data": {
            "image/png": "[encoded data removed]",
            "text/plain": [
              "<Figure size 1200x500 with 2 Axes>"
            ]
          },
          "metadata": {},
          "output_type": "display_data"
        },
        {
          "data": {
            "image/png": "[encoded data removed]",
            "text/plain": [
              "<Figure size 1000x200 with 5 Axes>"
            ]
          },
          "metadata": {},
          "output_type": "display_data"
        },
        {
          "name": "stdout",
          "output_type": "stream",
          "text": [
            "   Digit  Accuracy (%)\n",
            "0      0     99.081633\n",
            "1      1     98.854626\n",
            "2      2     95.348837\n",
            "3      3     96.039604\n",
            "4      4     96.028513\n",
            "5      5     95.852018\n",
            "6      6     97.703549\n",
            "7      7     96.498054\n",
            "8      8     95.893224\n",
            "9      9     95.143707\n"
          ]
        }
      ],
      "source": [
        "import torch\n",
        "import torch.nn as nn\n",
        "import torch.optim as optim\n",
        "import torchvision.transforms as transforms\n",
        "from torchvision.datasets import MNIST\n",
        "from torch.utils.data import DataLoader\n",
        "import matplotlib.pyplot as plt\n",
        "import pandas as pd\n",
        "\n",
        "# Parameters\n",
        "batch_size = 64\n",
        "time_steps = 30\n",
        "learning_rate = 1e-3\n",
        "epochs = 5\n",
        "\n",
        "# Load MNIST dataset\n",
        "transform = transforms.Compose([transforms.ToTensor(), transforms.Normalize((0.5,), (0.5,))])\n",
        "train_data = MNIST(root='./data', train=True, download=True, transform=transform)\n",
        "train_loader = DataLoader(train_data, batch_size=batch_size, shuffle=True)\n",
        "\n",
        "test_data = MNIST(root='./data', train=False, download=True, transform=transform)\n",
        "test_loader = DataLoader(test_data, batch_size=batch_size, shuffle=False)\n",
        "\n",
        "# LIF Neuron Model with Surrogate Gradient\n",
        "class LIFNeuron(nn.Module):\n",
        "    def __init__(self, threshold=1.0, decay=0.9):\n",
        "        super(LIFNeuron, self).__init__()\n",
        "        self.threshold = threshold\n",
        "        self.decay = decay\n",
        "\n",
        "    def forward(self, x, membrane_potential=None):\n",
        "        if membrane_potential is None:\n",
        "            membrane_potential = torch.zeros_like(x, device=x.device)\n",
        "\n",
        "        membrane_potential = membrane_potential * self.decay + x\n",
        "        spikes = (membrane_potential >= self.threshold).float()\n",
        "        grad_spikes = torch.sigmoid(membrane_potential - self.threshold) * 0.3\n",
        "        spikes = spikes.detach() + grad_spikes\n",
        "        membrane_potential = membrane_potential * (1 - spikes)\n",
        "        return spikes, membrane_potential\n",
        "\n",
        "# Spiking Neural Network Model\n",
        "class SNN(nn.Module):\n",
        "    def __init__(self):\n",
        "        super(SNN, self).__init__()\n",
        "        self.fc1 = nn.Linear(784, 256)\n",
        "        self.fc2 = nn.Linear(256, 10)\n",
        "        self.lif1 = LIFNeuron()\n",
        "        self.lif2 = LIFNeuron()\n",
        "\n",
        "    def forward(self, x):\n",
        "        x = x.view(x.size(0), -1)\n",
        "        x = (x + 1) / 2\n",
        "        spikes = torch.zeros(x.size(0), 10, device=x.device)\n",
        "        mem_pot1, mem_pot2 = None, None\n",
        "\n",
        "        for t in range(time_steps):\n",
        "            x_encoded = torch.bernoulli(x).float()\n",
        "            h1 = self.fc1(x_encoded)\n",
        "            h1_spikes, mem_pot1 = self.lif1(h1, mem_pot1)\n",
        "            h2 = self.fc2(h1_spikes)\n",
        "            h2_spikes, mem_pot2 = self.lif2(h2, mem_pot2)\n",
        "            spikes += h2_spikes\n",
        "        return spikes / time_steps\n",
        "\n",
        "# Training setup\n",
        "device = torch.device(\"cuda\" if torch.cuda.is_available() else \"cpu\")\n",
        "model = SNN().to(device)\n",
        "optimizer = optim.Adam(model.parameters(), lr=learning_rate)\n",
        "criterion = nn.CrossEntropyLoss()\n",
        "\n",
        "# Training loop with loss and accuracy tracking\n",
        "train_losses = []\n",
        "train_accuracies = []\n",
        "\n",
        "for epoch in range(epochs):\n",
        "    total_loss = 0\n",
        "    correct = 0\n",
        "    total = 0\n",
        "\n",
        "    for images, labels in train_loader:\n",
        "        images, labels = images.to(device), labels.to(device)\n",
        "\n",
        "        # Forward pass\n",
        "        output = model(images)\n",
        "\n",
        "        # Compute loss\n",
        "        loss = criterion(output, labels)\n",
        "        total_loss += loss.item()\n",
        "\n",
        "        # Backpropagation\n",
        "        optimizer.zero_grad()\n",
        "        loss.backward()\n",
        "        optimizer.step()\n",
        "\n",
        "        # Accuracy\n",
        "        _, predicted = torch.max(output.data, 1)\n",
        "        total += labels.size(0)\n",
        "        correct += (predicted == labels).sum().item()\n",
        "\n",
        "    avg_loss = total_loss / len(train_loader)\n",
        "    accuracy = 100 * correct / total\n",
        "    train_losses.append(avg_loss)\n",
        "    train_accuracies.append(accuracy)\n",
        "\n",
        "    print(f\"Epoch {epoch+1}/{epochs}, Loss: {avg_loss}, Accuracy: {accuracy}%\")\n",
        "\n",
        "# Evaluation function\n",
        "def evaluate(model, test_loader):\n",
        "    model.eval()\n",
        "    correct = 0\n",
        "    total = 0\n",
        "    with torch.no_grad():\n",
        "        for images, labels in test_loader:\n",
        "            images, labels = images.to(device), labels.to(device)\n",
        "            output = model(images)\n",
        "            _, predicted = torch.max(output.data, 1)\n",
        "            total += labels.size(0)\n",
        "            correct += (predicted == labels).sum().item()\n",
        "\n",
        "    accuracy = 100 * correct / total\n",
        "    return accuracy\n",
        "\n",
        "# Evaluate the model\n",
        "accuracy = evaluate(model, test_loader)\n",
        "print(f\"Test Accuracy: {accuracy:.2f}%\")\n",
        "\n",
        "# Plotting Loss vs. Epochs and Accuracy vs. Epochs\n",
        "plt.figure(figsize=(12, 5))\n",
        "plt.subplot(1, 2, 1)\n",
        "plt.plot(train_losses, label=\"Training Loss\")\n",
        "plt.xlabel(\"Epochs\")\n",
        "plt.ylabel(\"Loss\")\n",
        "plt.title(\"Training Loss vs. Epochs\")\n",
        "plt.legend()\n",
        "\n",
        "plt.subplot(1, 2, 2)\n",
        "plt.plot(train_accuracies, label=\"Training Accuracy\")\n",
        "plt.xlabel(\"Epochs\")\n",
        "plt.ylabel(\"Accuracy (%)\")\n",
        "plt.title(\"Training Accuracy vs. Epochs\")\n",
        "plt.legend()\n",
        "plt.show()\n",
        "\n",
        "# Visualize some predictions\n",
        "def visualize_predictions(model, test_loader, num_images=5):\n",
        "    model.eval()\n",
        "    images, labels = next(iter(test_loader))\n",
        "    images = images.to(device)\n",
        "    labels = labels.to(device)\n",
        "\n",
        "    outputs = model(images)\n",
        "    _, predicted = torch.max(outputs.data, 1)\n",
        "\n",
        "    # Set up the figure\n",
        "    plt.figure(figsize=(10, 2))\n",
        "    for i in range(num_images):\n",
        "        plt.subplot(1, num_images, i + 1)\n",
        "        plt.imshow(images[i].cpu().squeeze(), cmap='gray')\n",
        "        plt.title(f'Pred: {predicted[i].item()}\\nTrue: {labels[i].item()}')\n",
        "        plt.axis('off')\n",
        "    plt.show()\n",
        "\n",
        "# Displaying sample predictions and a table of accuracies for a few samples\n",
        "visualize_predictions(model, test_loader, num_images=5)\n",
        "\n",
        "# Table of accuracies across specific digits in the test set\n",
        "sample_digits = {i: 0 for i in range(10)}\n",
        "correct_predictions = {i: 0 for i in range(10)}\n",
        "model.eval()\n",
        "\n",
        "with torch.no_grad():\n",
        "    for images, labels in test_loader:\n",
        "        images, labels = images.to(device), labels.to(device)\n",
        "        outputs = model(images)\n",
        "        _, predicted = torch.max(outputs.data, 1)\n",
        "        for i in range(len(labels)):\n",
        "            label = labels[i].item()\n",
        "            sample_digits[label] += 1\n",
        "            if predicted[i] == label:\n",
        "                correct_predictions[label] += 1\n",
        "\n",
        "# Prepare and display the table\n",
        "accuracy_per_digit = {digit: 100 * correct_predictions[digit] / sample_digits[digit]\n",
        "                      if sample_digits[digit] != 0 else 0\n",
        "                      for digit in range(10)}\n",
        "\n",
        "accuracy_table = pd.DataFrame(list(accuracy_per_digit.items()), columns=[\"Digit\", \"Accuracy (%)\"])\n",
        "print(accuracy_table)\n"
      ]
    },
    {
      "cell_type": "code",
      "execution_count": null,
      "metadata": {
        "colab": {
          "base_uri": "https://localhost:8080/",
          "height": 317
        },
        "id": "lNxvVLtyj13s",
        "outputId": "63471dc6-0320-43b2-edca-0a9b924f8ba8"
      },
      "outputs": [
        {
          "name": "stdout",
          "output_type": "stream",
          "text": [
            "Epoch 1/5, Loss: 1.4266411777752548\n",
            "Epoch 2/5, Loss: 1.3232411106766413\n",
            "Epoch 3/5, Loss: 1.303798743910881\n",
            "Epoch 4/5, Loss: 1.292083989201324\n",
            "Epoch 5/5, Loss: 1.2841125340349893\n",
            "Test Accuracy: 96.42%\n"
          ]
        },
        {
          "data": {
            "image/png": "[encoded data removed]",
            "text/plain": [
              "<Figure size 1000x200 with 5 Axes>"
            ]
          },
          "metadata": {},
          "output_type": "display_data"
        }
      ],
      "source": [
        "import torch\n",
        "import torch.nn as nn\n",
        "import torch.optim as optim\n",
        "import torchvision.transforms as transforms\n",
        "from torchvision.datasets import MNIST\n",
        "from torch.utils.data import DataLoader\n",
        "import matplotlib.pyplot as plt\n",
        "\n",
        "# Parameters\n",
        "batch_size = 64\n",
        "time_steps = 30\n",
        "learning_rate = 1e-3\n",
        "epochs = 5\n",
        "\n",
        "# Load MNIST dataset\n",
        "transform = transforms.Compose([transforms.ToTensor(), transforms.Normalize((0.5,), (0.5,))])\n",
        "train_data = MNIST(root='./data', train=True, download=True, transform=transform)\n",
        "train_loader = DataLoader(train_data, batch_size=batch_size, shuffle=True)\n",
        "\n",
        "# Load test data\n",
        "test_data = MNIST(root='./data', train=False, download=True, transform=transform)\n",
        "test_loader = DataLoader(test_data, batch_size=batch_size, shuffle=False)\n",
        "\n",
        "# LIF Neuron Model with Surrogate Gradient\n",
        "class LIFNeuron(nn.Module):\n",
        "    def __init__(self, threshold=1.0, decay=0.9):\n",
        "        super(LIFNeuron, self).__init__()\n",
        "        self.threshold = threshold\n",
        "        self.decay = decay\n",
        "\n",
        "    def forward(self, x, membrane_potential=None):\n",
        "        if membrane_potential is None:\n",
        "            membrane_potential = torch.zeros_like(x, device=x.device)\n",
        "\n",
        "        membrane_potential = membrane_potential * self.decay + x\n",
        "        spikes = (membrane_potential >= self.threshold).float()\n",
        "\n",
        "        # Use surrogate gradient for spikes\n",
        "        grad_spikes = torch.sigmoid(membrane_potential - self.threshold) * 0.3\n",
        "        spikes = spikes.detach() + grad_spikes\n",
        "\n",
        "        # Reset potential where spikes occurred\n",
        "        membrane_potential = membrane_potential * (1 - spikes)\n",
        "\n",
        "        return spikes, membrane_potential\n",
        "\n",
        "# Spiking Neural Network Model\n",
        "class SNN(nn.Module):\n",
        "    def __init__(self):\n",
        "        super(SNN, self).__init__()\n",
        "        self.fc1 = nn.Linear(784, 256)\n",
        "        self.fc2 = nn.Linear(256, 10)\n",
        "        self.lif1 = LIFNeuron()\n",
        "        self.lif2 = LIFNeuron()\n",
        "\n",
        "    def forward(self, x):\n",
        "        x = x.view(x.size(0), -1)\n",
        "        x = (x + 1) / 2\n",
        "\n",
        "        spikes = torch.zeros(x.size(0), 10, device=x.device)\n",
        "        mem_pot1, mem_pot2 = None, None\n",
        "\n",
        "        for t in range(time_steps):\n",
        "            x_encoded = torch.bernoulli(x).float()\n",
        "\n",
        "            h1 = self.fc1(x_encoded)\n",
        "            h1_spikes, mem_pot1 = self.lif1(h1, mem_pot1)\n",
        "\n",
        "            h2 = self.fc2(h1_spikes)\n",
        "            h2_spikes, mem_pot2 = self.lif2(h2, mem_pot2)\n",
        "\n",
        "            spikes += h2_spikes\n",
        "\n",
        "        return spikes / time_steps\n",
        "\n",
        "# Training setup\n",
        "device = torch.device(\"cuda\" if torch.cuda.is_available() else \"cpu\")\n",
        "model = SNN().to(device)\n",
        "optimizer = optim.Adam(model.parameters(), lr=learning_rate)\n",
        "criterion = nn.CrossEntropyLoss()\n",
        "\n",
        "# Training loop\n",
        "for epoch in range(epochs):\n",
        "    total_loss = 0\n",
        "    for images, labels in train_loader:\n",
        "        images, labels = images.to(device), labels.to(device)\n",
        "\n",
        "        # Forward pass\n",
        "        output = model(images)\n",
        "\n",
        "        # Compute loss\n",
        "        loss = criterion(output, labels)\n",
        "        total_loss += loss.item()\n",
        "\n",
        "        # Backpropagation\n",
        "        optimizer.zero_grad()\n",
        "        loss.backward()\n",
        "        optimizer.step()\n",
        "\n",
        "    print(f\"Epoch {epoch+1}/{epochs}, Loss: {total_loss / len(train_loader)}\")\n",
        "\n",
        "# Evaluation function\n",
        "def evaluate(model, test_loader):\n",
        "    model.eval()  # Set the model to evaluation mode\n",
        "    correct = 0\n",
        "    total = 0\n",
        "    with torch.no_grad():  # No gradients needed\n",
        "        for images, labels in test_loader:\n",
        "            images, labels = images.to(device), labels.to(device)\n",
        "            output = model(images)\n",
        "            _, predicted = torch.max(output.data, 1)  # Get the predicted class\n",
        "            total += labels.size(0)\n",
        "            correct += (predicted == labels).sum().item()\n",
        "\n",
        "    accuracy = 100 * correct / total\n",
        "    return accuracy\n",
        "\n",
        "# Evaluate the model\n",
        "accuracy = evaluate(model, test_loader)\n",
        "print(f\"Test Accuracy: {accuracy:.2f}%\")\n",
        "\n",
        "# Visualize some predictions\n",
        "def visualize_predictions(model, test_loader, num_images=5):\n",
        "    model.eval()\n",
        "    images, labels = next(iter(test_loader))\n",
        "    images = images.to(device)\n",
        "    labels = labels.to(device)\n",
        "\n",
        "    outputs = model(images)\n",
        "    _, predicted = torch.max(outputs.data, 1)\n",
        "\n",
        "    # Set up the figure\n",
        "    plt.figure(figsize=(10, 2))\n",
        "    for i in range(num_images):\n",
        "        plt.subplot(1, num_images, i + 1)\n",
        "        plt.imshow(images[i].cpu().squeeze(), cmap='gray')\n",
        "        plt.title(f'Pred: {predicted[i].item()}\\nTrue: {labels[i].item()}')\n",
        "        plt.axis('off')\n",
        "    plt.show()\n",
        "\n",
        "# Visualize some predictions\n",
        "visualize_predictions(model, test_loader, num_images=5)\n"
      ]
    }
  ],
  "metadata": {
    "colab": {
      "provenance": [],
      "authorship_tag": "ABX9TyNa1/PJyzqV8N2Z5kTQ6UqJ",
      "include_colab_link": true
    },
    "kernelspec": {
      "display_name": "Python 3",
      "name": "python3"
    },
    "language_info": {
      "name": "python"
    }
  },
  "nbformat": 4,
  "nbformat_minor": 0
}